{
  "nbformat": 4,
  "nbformat_minor": 0,
  "metadata": {
    "colab": {
      "provenance": []
    },
    "kernelspec": {
      "name": "python3",
      "display_name": "Python 3"
    },
    "language_info": {
      "name": "python"
    }
  },
  "cells": [
    {
      "cell_type": "markdown",
      "source": [
        "# Library"
      ],
      "metadata": {
        "id": "NGxSkZRcgjrv"
      }
    },
    {
      "cell_type": "code",
      "source": [
        "#!pip install --upgrade tweepy==4.5.0\n",
        "#!pip install --upgrade tweepy\n",
        "#!pip install Sastrawi\n",
        "#print(tweepy.__version__)"
      ],
      "metadata": {
        "colab": {
          "base_uri": "https://localhost:8080/"
        },
        "id": "6Agii36dvi2y",
        "outputId": "5ebcc792-6f53-4ea5-be83-785664485969"
      },
      "execution_count": null,
      "outputs": [
        {
          "output_type": "stream",
          "name": "stdout",
          "text": [
            "Looking in indexes: https://pypi.org/simple, https://us-python.pkg.dev/colab-wheels/public/simple/\n",
            "Requirement already satisfied: tweepy in /usr/local/lib/python3.8/dist-packages (4.12.1)\n",
            "Requirement already satisfied: requests<3,>=2.27.0 in /usr/local/lib/python3.8/dist-packages (from tweepy) (2.28.2)\n",
            "Requirement already satisfied: requests-oauthlib<2,>=1.2.0 in /usr/local/lib/python3.8/dist-packages (from tweepy) (1.3.1)\n",
            "Requirement already satisfied: oauthlib<4,>=3.2.0 in /usr/local/lib/python3.8/dist-packages (from tweepy) (3.2.2)\n",
            "Requirement already satisfied: urllib3<1.27,>=1.21.1 in /usr/local/lib/python3.8/dist-packages (from requests<3,>=2.27.0->tweepy) (1.24.3)\n",
            "Requirement already satisfied: certifi>=2017.4.17 in /usr/local/lib/python3.8/dist-packages (from requests<3,>=2.27.0->tweepy) (2022.12.7)\n",
            "Requirement already satisfied: idna<4,>=2.5 in /usr/local/lib/python3.8/dist-packages (from requests<3,>=2.27.0->tweepy) (2.10)\n",
            "Requirement already satisfied: charset-normalizer<4,>=2 in /usr/local/lib/python3.8/dist-packages (from requests<3,>=2.27.0->tweepy) (2.1.1)\n"
          ]
        }
      ]
    },
    {
      "cell_type": "code",
      "metadata": {
        "id": "PrX2rYsNt5Fb",
        "colab": {
          "base_uri": "https://localhost:8080/"
        },
        "outputId": "8931aae6-1ab6-4ab2-c265-30fe6ae2bf83"
      },
      "source": [
        "#import library & package. \n",
        "import pandas as pd, numpy as np, matplotlib.pyplot as plt\n",
        "import json, requests, re\n",
        "import tweepy\n",
        "import string\n",
        "import nltk\n",
        "import Sastrawi\n",
        "import seaborn as sns\n",
        "from nltk.probability import FreqDist\n",
        "from nltk.tokenize import word_tokenize\n",
        "from tweepy import Paginator\n",
        "from nltk.corpus import stopwords\n",
        "from Sastrawi.Stemmer.StemmerFactory import StemmerFactory\n",
        "nltk.download('stopwords')"
      ],
      "execution_count": null,
      "outputs": [
        {
          "output_type": "stream",
          "name": "stderr",
          "text": [
            "[nltk_data] Downloading package stopwords to /root/nltk_data...\n",
            "[nltk_data]   Package stopwords is already up-to-date!\n"
          ]
        },
        {
          "output_type": "execute_result",
          "data": {
            "text/plain": [
              "True"
            ]
          },
          "metadata": {},
          "execution_count": 488
        }
      ]
    },
    {
      "cell_type": "markdown",
      "source": [
        "# API twitter authentication"
      ],
      "metadata": {
        "id": "B06FQbz9gyFO"
      }
    },
    {
      "cell_type": "code",
      "metadata": {
        "id": "OhUpQdubuCo1"
      },
      "source": [
        "with open(\"tokens.json\")as f:\n",
        "  tokens = json.load(f)\n",
        "\n",
        "bearer_token = tokens['bearer_token']\n",
        "api_key = tokens['api_key']\n",
        "api_key_secret = tokens['api_key_secret']\n",
        "access_token = tokens['access_token']\n",
        "access_token_secret = tokens['access_token_secret']"
      ],
      "execution_count": null,
      "outputs": []
    },
    {
      "cell_type": "code",
      "source": [
        "api = tweepy.Client(bearer_token=bearer_token, wait_on_rate_limit=True)"
      ],
      "metadata": {
        "id": "qJoPfYyGyw9E"
      },
      "execution_count": null,
      "outputs": []
    },
    {
      "cell_type": "markdown",
      "source": [
        "Pada kesempatan ini saya ingin scraping tweet tentang Sambo\n"
      ],
      "metadata": {
        "id": "RCKEiuERgEZh"
      }
    },
    {
      "cell_type": "code",
      "metadata": {
        "id": "fHB0EmI4j1Ok",
        "colab": {
          "base_uri": "https://localhost:8080/",
          "height": 423
        },
        "outputId": "0885ca6d-4cbf-4ad9-f835-937d56bf1b24"
      },
      "source": [
        "query = \"sambo -is:retweet lang:id\"\n",
        "\n",
        "response = tweepy.Paginator(api.search_recent_tweets,\n",
        "                          query = query,\n",
        "                          max_results=100\n",
        "                          ).flatten(limit=300)\n",
        "tweets = [tweet.text.strip() for tweet in response]\n",
        "df = pd.DataFrame(tweets, columns=['tweet'])\n",
        "df"
      ],
      "execution_count": null,
      "outputs": [
        {
          "output_type": "execute_result",
          "data": {
            "text/plain": [
              "                                                 tweet\n",
              "0    @NUgarislucu Masa Laluku\\nEnola Band bth Produ...\n",
              "1    @NarasiNewsroom ricky rizal dituntut 8 tahun.\\...\n",
              "2    Jaksa Sebut Ferdy Sambo yang Bersikukuh Membun...\n",
              "3    Tuntutan JPU ini menuai beragam komentar dari ...\n",
              "4    Tv berita favorit saya, Kompastv, MetroTv, TvO...\n",
              "..                                                 ...\n",
              "295  @sipalingdewasaa @asumsico Kalau takut ama fer...\n",
              "296  Sepuluh tahun menjabat, Gubernur Jawa Tengah G...\n",
              "297  Sepuluh tahun menjabat, Gubernur Jawa Tengah G...\n",
              "298  Sepuluh tahun menjabat, Gubernur Jawa Tengah G...\n",
              "299  Semoga vonis hakim lebih tinggi dari tuntutan ...\n",
              "\n",
              "[300 rows x 1 columns]"
            ],
            "text/html": [
              "\n",
              "  <div id=\"df-0f94f8c3-1c5d-4f3e-8946-222e769ec55d\">\n",
              "    <div class=\"colab-df-container\">\n",
              "      <div>\n",
              "<style scoped>\n",
              "    .dataframe tbody tr th:only-of-type {\n",
              "        vertical-align: middle;\n",
              "    }\n",
              "\n",
              "    .dataframe tbody tr th {\n",
              "        vertical-align: top;\n",
              "    }\n",
              "\n",
              "    .dataframe thead th {\n",
              "        text-align: right;\n",
              "    }\n",
              "</style>\n",
              "<table border=\"1\" class=\"dataframe\">\n",
              "  <thead>\n",
              "    <tr style=\"text-align: right;\">\n",
              "      <th></th>\n",
              "      <th>tweet</th>\n",
              "    </tr>\n",
              "  </thead>\n",
              "  <tbody>\n",
              "    <tr>\n",
              "      <th>0</th>\n",
              "      <td>@NUgarislucu Masa Laluku\\nEnola Band bth Produ...</td>\n",
              "    </tr>\n",
              "    <tr>\n",
              "      <th>1</th>\n",
              "      <td>@NarasiNewsroom ricky rizal dituntut 8 tahun.\\...</td>\n",
              "    </tr>\n",
              "    <tr>\n",
              "      <th>2</th>\n",
              "      <td>Jaksa Sebut Ferdy Sambo yang Bersikukuh Membun...</td>\n",
              "    </tr>\n",
              "    <tr>\n",
              "      <th>3</th>\n",
              "      <td>Tuntutan JPU ini menuai beragam komentar dari ...</td>\n",
              "    </tr>\n",
              "    <tr>\n",
              "      <th>4</th>\n",
              "      <td>Tv berita favorit saya, Kompastv, MetroTv, TvO...</td>\n",
              "    </tr>\n",
              "    <tr>\n",
              "      <th>...</th>\n",
              "      <td>...</td>\n",
              "    </tr>\n",
              "    <tr>\n",
              "      <th>295</th>\n",
              "      <td>@sipalingdewasaa @asumsico Kalau takut ama fer...</td>\n",
              "    </tr>\n",
              "    <tr>\n",
              "      <th>296</th>\n",
              "      <td>Sepuluh tahun menjabat, Gubernur Jawa Tengah G...</td>\n",
              "    </tr>\n",
              "    <tr>\n",
              "      <th>297</th>\n",
              "      <td>Sepuluh tahun menjabat, Gubernur Jawa Tengah G...</td>\n",
              "    </tr>\n",
              "    <tr>\n",
              "      <th>298</th>\n",
              "      <td>Sepuluh tahun menjabat, Gubernur Jawa Tengah G...</td>\n",
              "    </tr>\n",
              "    <tr>\n",
              "      <th>299</th>\n",
              "      <td>Semoga vonis hakim lebih tinggi dari tuntutan ...</td>\n",
              "    </tr>\n",
              "  </tbody>\n",
              "</table>\n",
              "<p>300 rows × 1 columns</p>\n",
              "</div>\n",
              "      <button class=\"colab-df-convert\" onclick=\"convertToInteractive('df-0f94f8c3-1c5d-4f3e-8946-222e769ec55d')\"\n",
              "              title=\"Convert this dataframe to an interactive table.\"\n",
              "              style=\"display:none;\">\n",
              "        \n",
              "  <svg xmlns=\"http://www.w3.org/2000/svg\" height=\"24px\"viewBox=\"0 0 24 24\"\n",
              "       width=\"24px\">\n",
              "    <path d=\"M0 0h24v24H0V0z\" fill=\"none\"/>\n",
              "    <path d=\"M18.56 5.44l.94 2.06.94-2.06 2.06-.94-2.06-.94-.94-2.06-.94 2.06-2.06.94zm-11 1L8.5 8.5l.94-2.06 2.06-.94-2.06-.94L8.5 2.5l-.94 2.06-2.06.94zm10 10l.94 2.06.94-2.06 2.06-.94-2.06-.94-.94-2.06-.94 2.06-2.06.94z\"/><path d=\"M17.41 7.96l-1.37-1.37c-.4-.4-.92-.59-1.43-.59-.52 0-1.04.2-1.43.59L10.3 9.45l-7.72 7.72c-.78.78-.78 2.05 0 2.83L4 21.41c.39.39.9.59 1.41.59.51 0 1.02-.2 1.41-.59l7.78-7.78 2.81-2.81c.8-.78.8-2.07 0-2.86zM5.41 20L4 18.59l7.72-7.72 1.47 1.35L5.41 20z\"/>\n",
              "  </svg>\n",
              "      </button>\n",
              "      \n",
              "  <style>\n",
              "    .colab-df-container {\n",
              "      display:flex;\n",
              "      flex-wrap:wrap;\n",
              "      gap: 12px;\n",
              "    }\n",
              "\n",
              "    .colab-df-convert {\n",
              "      background-color: #E8F0FE;\n",
              "      border: none;\n",
              "      border-radius: 50%;\n",
              "      cursor: pointer;\n",
              "      display: none;\n",
              "      fill: #1967D2;\n",
              "      height: 32px;\n",
              "      padding: 0 0 0 0;\n",
              "      width: 32px;\n",
              "    }\n",
              "\n",
              "    .colab-df-convert:hover {\n",
              "      background-color: #E2EBFA;\n",
              "      box-shadow: 0px 1px 2px rgba(60, 64, 67, 0.3), 0px 1px 3px 1px rgba(60, 64, 67, 0.15);\n",
              "      fill: #174EA6;\n",
              "    }\n",
              "\n",
              "    [theme=dark] .colab-df-convert {\n",
              "      background-color: #3B4455;\n",
              "      fill: #D2E3FC;\n",
              "    }\n",
              "\n",
              "    [theme=dark] .colab-df-convert:hover {\n",
              "      background-color: #434B5C;\n",
              "      box-shadow: 0px 1px 3px 1px rgba(0, 0, 0, 0.15);\n",
              "      filter: drop-shadow(0px 1px 2px rgba(0, 0, 0, 0.3));\n",
              "      fill: #FFFFFF;\n",
              "    }\n",
              "  </style>\n",
              "\n",
              "      <script>\n",
              "        const buttonEl =\n",
              "          document.querySelector('#df-0f94f8c3-1c5d-4f3e-8946-222e769ec55d button.colab-df-convert');\n",
              "        buttonEl.style.display =\n",
              "          google.colab.kernel.accessAllowed ? 'block' : 'none';\n",
              "\n",
              "        async function convertToInteractive(key) {\n",
              "          const element = document.querySelector('#df-0f94f8c3-1c5d-4f3e-8946-222e769ec55d');\n",
              "          const dataTable =\n",
              "            await google.colab.kernel.invokeFunction('convertToInteractive',\n",
              "                                                     [key], {});\n",
              "          if (!dataTable) return;\n",
              "\n",
              "          const docLinkHtml = 'Like what you see? Visit the ' +\n",
              "            '<a target=\"_blank\" href=https://colab.research.google.com/notebooks/data_table.ipynb>data table notebook</a>'\n",
              "            + ' to learn more about interactive tables.';\n",
              "          element.innerHTML = '';\n",
              "          dataTable['output_type'] = 'display_data';\n",
              "          await google.colab.output.renderOutput(dataTable, element);\n",
              "          const docLink = document.createElement('div');\n",
              "          docLink.innerHTML = docLinkHtml;\n",
              "          element.appendChild(docLink);\n",
              "        }\n",
              "      </script>\n",
              "    </div>\n",
              "  </div>\n",
              "  "
            ]
          },
          "metadata": {},
          "execution_count": 304
        }
      ]
    },
    {
      "cell_type": "markdown",
      "source": [
        "# Text Preprocessing"
      ],
      "metadata": {
        "id": "tVbdJjh-geyy"
      }
    },
    {
      "cell_type": "markdown",
      "source": [
        "melakukan pembersihan data dari kata/karakter seperti @, link"
      ],
      "metadata": {
        "id": "1xsiVMuWhY60"
      }
    },
    {
      "cell_type": "code",
      "metadata": {
        "id": "PSFov6PzlA8U",
        "colab": {
          "base_uri": "https://localhost:8080/",
          "height": 423
        },
        "outputId": "a26e638c-aa5b-4a64-899b-3f01856c4b61"
      },
      "source": [
        "tweets = list(map(lambda x: x.lower(),tweets))\n",
        "tweets = list(map(lambda x : ' '.join(re.sub(\"(@[A-Za-z0-9]+)|([^A-Za-z \\t])|(\\w+:\\/\\/\\S+)|(\\d+)\", \" \", x).split()),tweets))\n",
        "df['clean_tweet'] = tweets\n",
        "df"
      ],
      "execution_count": null,
      "outputs": [
        {
          "output_type": "execute_result",
          "data": {
            "text/plain": [
              "                                                 tweet  \\\n",
              "0    @NUgarislucu Masa Laluku\\nEnola Band bth Produ...   \n",
              "1    @NarasiNewsroom ricky rizal dituntut 8 tahun.\\...   \n",
              "2    Jaksa Sebut Ferdy Sambo yang Bersikukuh Membun...   \n",
              "3    Tuntutan JPU ini menuai beragam komentar dari ...   \n",
              "4    Tv berita favorit saya, Kompastv, MetroTv, TvO...   \n",
              "..                                                 ...   \n",
              "295  @sipalingdewasaa @asumsico Kalau takut ama fer...   \n",
              "296  Sepuluh tahun menjabat, Gubernur Jawa Tengah G...   \n",
              "297  Sepuluh tahun menjabat, Gubernur Jawa Tengah G...   \n",
              "298  Sepuluh tahun menjabat, Gubernur Jawa Tengah G...   \n",
              "299  Semoga vonis hakim lebih tinggi dari tuntutan ...   \n",
              "\n",
              "                                           clean_tweet  \n",
              "0    masa laluku enola band bth produser atau label...  \n",
              "1    ricky rizal dituntut tahun kuat maruf dituntut...  \n",
              "2    jaksa sebut ferdy sambo yang bersikukuh membun...  \n",
              "3    tuntutan jpu ini menuai beragam komentar dari ...  \n",
              "4    tv berita favorit saya kompastv metrotv tvone ...  \n",
              "..                                                 ...  \n",
              "295  kalau takut ama ferdy sambo harusnya ya langsu...  \n",
              "296  sepuluh tahun menjabat gubernur jawa tengah ga...  \n",
              "297  sepuluh tahun menjabat gubernur jawa tengah ga...  \n",
              "298  sepuluh tahun menjabat gubernur jawa tengah ga...  \n",
              "299  semoga vonis hakim lebih tinggi dari tuntutan ...  \n",
              "\n",
              "[300 rows x 2 columns]"
            ],
            "text/html": [
              "\n",
              "  <div id=\"df-ae6eb146-b55e-4c99-9465-485e0abe55d7\">\n",
              "    <div class=\"colab-df-container\">\n",
              "      <div>\n",
              "<style scoped>\n",
              "    .dataframe tbody tr th:only-of-type {\n",
              "        vertical-align: middle;\n",
              "    }\n",
              "\n",
              "    .dataframe tbody tr th {\n",
              "        vertical-align: top;\n",
              "    }\n",
              "\n",
              "    .dataframe thead th {\n",
              "        text-align: right;\n",
              "    }\n",
              "</style>\n",
              "<table border=\"1\" class=\"dataframe\">\n",
              "  <thead>\n",
              "    <tr style=\"text-align: right;\">\n",
              "      <th></th>\n",
              "      <th>tweet</th>\n",
              "      <th>clean_tweet</th>\n",
              "    </tr>\n",
              "  </thead>\n",
              "  <tbody>\n",
              "    <tr>\n",
              "      <th>0</th>\n",
              "      <td>@NUgarislucu Masa Laluku\\nEnola Band bth Produ...</td>\n",
              "      <td>masa laluku enola band bth produser atau label...</td>\n",
              "    </tr>\n",
              "    <tr>\n",
              "      <th>1</th>\n",
              "      <td>@NarasiNewsroom ricky rizal dituntut 8 tahun.\\...</td>\n",
              "      <td>ricky rizal dituntut tahun kuat maruf dituntut...</td>\n",
              "    </tr>\n",
              "    <tr>\n",
              "      <th>2</th>\n",
              "      <td>Jaksa Sebut Ferdy Sambo yang Bersikukuh Membun...</td>\n",
              "      <td>jaksa sebut ferdy sambo yang bersikukuh membun...</td>\n",
              "    </tr>\n",
              "    <tr>\n",
              "      <th>3</th>\n",
              "      <td>Tuntutan JPU ini menuai beragam komentar dari ...</td>\n",
              "      <td>tuntutan jpu ini menuai beragam komentar dari ...</td>\n",
              "    </tr>\n",
              "    <tr>\n",
              "      <th>4</th>\n",
              "      <td>Tv berita favorit saya, Kompastv, MetroTv, TvO...</td>\n",
              "      <td>tv berita favorit saya kompastv metrotv tvone ...</td>\n",
              "    </tr>\n",
              "    <tr>\n",
              "      <th>...</th>\n",
              "      <td>...</td>\n",
              "      <td>...</td>\n",
              "    </tr>\n",
              "    <tr>\n",
              "      <th>295</th>\n",
              "      <td>@sipalingdewasaa @asumsico Kalau takut ama fer...</td>\n",
              "      <td>kalau takut ama ferdy sambo harusnya ya langsu...</td>\n",
              "    </tr>\n",
              "    <tr>\n",
              "      <th>296</th>\n",
              "      <td>Sepuluh tahun menjabat, Gubernur Jawa Tengah G...</td>\n",
              "      <td>sepuluh tahun menjabat gubernur jawa tengah ga...</td>\n",
              "    </tr>\n",
              "    <tr>\n",
              "      <th>297</th>\n",
              "      <td>Sepuluh tahun menjabat, Gubernur Jawa Tengah G...</td>\n",
              "      <td>sepuluh tahun menjabat gubernur jawa tengah ga...</td>\n",
              "    </tr>\n",
              "    <tr>\n",
              "      <th>298</th>\n",
              "      <td>Sepuluh tahun menjabat, Gubernur Jawa Tengah G...</td>\n",
              "      <td>sepuluh tahun menjabat gubernur jawa tengah ga...</td>\n",
              "    </tr>\n",
              "    <tr>\n",
              "      <th>299</th>\n",
              "      <td>Semoga vonis hakim lebih tinggi dari tuntutan ...</td>\n",
              "      <td>semoga vonis hakim lebih tinggi dari tuntutan ...</td>\n",
              "    </tr>\n",
              "  </tbody>\n",
              "</table>\n",
              "<p>300 rows × 2 columns</p>\n",
              "</div>\n",
              "      <button class=\"colab-df-convert\" onclick=\"convertToInteractive('df-ae6eb146-b55e-4c99-9465-485e0abe55d7')\"\n",
              "              title=\"Convert this dataframe to an interactive table.\"\n",
              "              style=\"display:none;\">\n",
              "        \n",
              "  <svg xmlns=\"http://www.w3.org/2000/svg\" height=\"24px\"viewBox=\"0 0 24 24\"\n",
              "       width=\"24px\">\n",
              "    <path d=\"M0 0h24v24H0V0z\" fill=\"none\"/>\n",
              "    <path d=\"M18.56 5.44l.94 2.06.94-2.06 2.06-.94-2.06-.94-.94-2.06-.94 2.06-2.06.94zm-11 1L8.5 8.5l.94-2.06 2.06-.94-2.06-.94L8.5 2.5l-.94 2.06-2.06.94zm10 10l.94 2.06.94-2.06 2.06-.94-2.06-.94-.94-2.06-.94 2.06-2.06.94z\"/><path d=\"M17.41 7.96l-1.37-1.37c-.4-.4-.92-.59-1.43-.59-.52 0-1.04.2-1.43.59L10.3 9.45l-7.72 7.72c-.78.78-.78 2.05 0 2.83L4 21.41c.39.39.9.59 1.41.59.51 0 1.02-.2 1.41-.59l7.78-7.78 2.81-2.81c.8-.78.8-2.07 0-2.86zM5.41 20L4 18.59l7.72-7.72 1.47 1.35L5.41 20z\"/>\n",
              "  </svg>\n",
              "      </button>\n",
              "      \n",
              "  <style>\n",
              "    .colab-df-container {\n",
              "      display:flex;\n",
              "      flex-wrap:wrap;\n",
              "      gap: 12px;\n",
              "    }\n",
              "\n",
              "    .colab-df-convert {\n",
              "      background-color: #E8F0FE;\n",
              "      border: none;\n",
              "      border-radius: 50%;\n",
              "      cursor: pointer;\n",
              "      display: none;\n",
              "      fill: #1967D2;\n",
              "      height: 32px;\n",
              "      padding: 0 0 0 0;\n",
              "      width: 32px;\n",
              "    }\n",
              "\n",
              "    .colab-df-convert:hover {\n",
              "      background-color: #E2EBFA;\n",
              "      box-shadow: 0px 1px 2px rgba(60, 64, 67, 0.3), 0px 1px 3px 1px rgba(60, 64, 67, 0.15);\n",
              "      fill: #174EA6;\n",
              "    }\n",
              "\n",
              "    [theme=dark] .colab-df-convert {\n",
              "      background-color: #3B4455;\n",
              "      fill: #D2E3FC;\n",
              "    }\n",
              "\n",
              "    [theme=dark] .colab-df-convert:hover {\n",
              "      background-color: #434B5C;\n",
              "      box-shadow: 0px 1px 3px 1px rgba(0, 0, 0, 0.15);\n",
              "      filter: drop-shadow(0px 1px 2px rgba(0, 0, 0, 0.3));\n",
              "      fill: #FFFFFF;\n",
              "    }\n",
              "  </style>\n",
              "\n",
              "      <script>\n",
              "        const buttonEl =\n",
              "          document.querySelector('#df-ae6eb146-b55e-4c99-9465-485e0abe55d7 button.colab-df-convert');\n",
              "        buttonEl.style.display =\n",
              "          google.colab.kernel.accessAllowed ? 'block' : 'none';\n",
              "\n",
              "        async function convertToInteractive(key) {\n",
              "          const element = document.querySelector('#df-ae6eb146-b55e-4c99-9465-485e0abe55d7');\n",
              "          const dataTable =\n",
              "            await google.colab.kernel.invokeFunction('convertToInteractive',\n",
              "                                                     [key], {});\n",
              "          if (!dataTable) return;\n",
              "\n",
              "          const docLinkHtml = 'Like what you see? Visit the ' +\n",
              "            '<a target=\"_blank\" href=https://colab.research.google.com/notebooks/data_table.ipynb>data table notebook</a>'\n",
              "            + ' to learn more about interactive tables.';\n",
              "          element.innerHTML = '';\n",
              "          dataTable['output_type'] = 'display_data';\n",
              "          await google.colab.output.renderOutput(dataTable, element);\n",
              "          const docLink = document.createElement('div');\n",
              "          docLink.innerHTML = docLinkHtml;\n",
              "          element.appendChild(docLink);\n",
              "        }\n",
              "      </script>\n",
              "    </div>\n",
              "  </div>\n",
              "  "
            ]
          },
          "metadata": {},
          "execution_count": 305
        }
      ]
    },
    {
      "cell_type": "markdown",
      "source": [
        "Membuang slang word pada data"
      ],
      "metadata": {
        "id": "QmMhHA99hga1"
      }
    },
    {
      "cell_type": "code",
      "source": [
        "def remove_slank_words(text):\n",
        "    slankwords = stopwords.words('indonesian')\n",
        "    slankwords.extend(['gwe','gw','gue','gua','lo','lu','kaya','kayak','ky','gak','gk','kaga','d','mulu','waw'])\n",
        "    slankwords = set(slankwords)\n",
        "    text_without_slankwords = [word for word in str(text).split() if word.lower() not in slankwords]\n",
        "    return \" \".join(text_without_slankwords)"
      ],
      "metadata": {
        "id": "uqpEQ4P0DHxf"
      },
      "execution_count": null,
      "outputs": []
    },
    {
      "cell_type": "code",
      "source": [
        "df['clean_tweet'] = df['clean_tweet'].apply(remove_slank_words)\n",
        "df"
      ],
      "metadata": {
        "colab": {
          "base_uri": "https://localhost:8080/",
          "height": 423
        },
        "id": "AiOEzPvOWOZs",
        "outputId": "49456268-e3f8-4ca6-bb25-20b57efacba3"
      },
      "execution_count": null,
      "outputs": [
        {
          "output_type": "execute_result",
          "data": {
            "text/plain": [
              "                                                 tweet  \\\n",
              "0    @NUgarislucu Masa Laluku\\nEnola Band bth Produ...   \n",
              "1    @NarasiNewsroom ricky rizal dituntut 8 tahun.\\...   \n",
              "2    Jaksa Sebut Ferdy Sambo yang Bersikukuh Membun...   \n",
              "3    Tuntutan JPU ini menuai beragam komentar dari ...   \n",
              "4    Tv berita favorit saya, Kompastv, MetroTv, TvO...   \n",
              "..                                                 ...   \n",
              "295  @sipalingdewasaa @asumsico Kalau takut ama fer...   \n",
              "296  Sepuluh tahun menjabat, Gubernur Jawa Tengah G...   \n",
              "297  Sepuluh tahun menjabat, Gubernur Jawa Tengah G...   \n",
              "298  Sepuluh tahun menjabat, Gubernur Jawa Tengah G...   \n",
              "299  Semoga vonis hakim lebih tinggi dari tuntutan ...   \n",
              "\n",
              "                                           clean_tweet  \n",
              "0    laluku enola band bth produser label musik hub...  \n",
              "1    ricky rizal dituntut kuat maruf dituntut ferdy...  \n",
              "2     jaksa ferdy sambo bersikukuh membunuh brigadir j  \n",
              "3    tuntutan jpu menuai beragam komentar netizen k...  \n",
              "4    tv berita favorit kompastv metrotv tvone yg je...  \n",
              "..                                                 ...  \n",
              "295  takut ama ferdy sambo ya langsung hukum mati a...  \n",
              "296  sepuluh menjabat gubernur jawa ganjar pranowo ...  \n",
              "297  sepuluh menjabat gubernur jawa ganjar pranowo ...  \n",
              "298  sepuluh menjabat gubernur jawa ganjar pranowo ...  \n",
              "299  semoga vonis hakim tuntutan jaksa hukuman mati...  \n",
              "\n",
              "[300 rows x 2 columns]"
            ],
            "text/html": [
              "\n",
              "  <div id=\"df-ab6873b5-4be6-421e-880f-5928d82b55c5\">\n",
              "    <div class=\"colab-df-container\">\n",
              "      <div>\n",
              "<style scoped>\n",
              "    .dataframe tbody tr th:only-of-type {\n",
              "        vertical-align: middle;\n",
              "    }\n",
              "\n",
              "    .dataframe tbody tr th {\n",
              "        vertical-align: top;\n",
              "    }\n",
              "\n",
              "    .dataframe thead th {\n",
              "        text-align: right;\n",
              "    }\n",
              "</style>\n",
              "<table border=\"1\" class=\"dataframe\">\n",
              "  <thead>\n",
              "    <tr style=\"text-align: right;\">\n",
              "      <th></th>\n",
              "      <th>tweet</th>\n",
              "      <th>clean_tweet</th>\n",
              "    </tr>\n",
              "  </thead>\n",
              "  <tbody>\n",
              "    <tr>\n",
              "      <th>0</th>\n",
              "      <td>@NUgarislucu Masa Laluku\\nEnola Band bth Produ...</td>\n",
              "      <td>laluku enola band bth produser label musik hub...</td>\n",
              "    </tr>\n",
              "    <tr>\n",
              "      <th>1</th>\n",
              "      <td>@NarasiNewsroom ricky rizal dituntut 8 tahun.\\...</td>\n",
              "      <td>ricky rizal dituntut kuat maruf dituntut ferdy...</td>\n",
              "    </tr>\n",
              "    <tr>\n",
              "      <th>2</th>\n",
              "      <td>Jaksa Sebut Ferdy Sambo yang Bersikukuh Membun...</td>\n",
              "      <td>jaksa ferdy sambo bersikukuh membunuh brigadir j</td>\n",
              "    </tr>\n",
              "    <tr>\n",
              "      <th>3</th>\n",
              "      <td>Tuntutan JPU ini menuai beragam komentar dari ...</td>\n",
              "      <td>tuntutan jpu menuai beragam komentar netizen k...</td>\n",
              "    </tr>\n",
              "    <tr>\n",
              "      <th>4</th>\n",
              "      <td>Tv berita favorit saya, Kompastv, MetroTv, TvO...</td>\n",
              "      <td>tv berita favorit kompastv metrotv tvone yg je...</td>\n",
              "    </tr>\n",
              "    <tr>\n",
              "      <th>...</th>\n",
              "      <td>...</td>\n",
              "      <td>...</td>\n",
              "    </tr>\n",
              "    <tr>\n",
              "      <th>295</th>\n",
              "      <td>@sipalingdewasaa @asumsico Kalau takut ama fer...</td>\n",
              "      <td>takut ama ferdy sambo ya langsung hukum mati a...</td>\n",
              "    </tr>\n",
              "    <tr>\n",
              "      <th>296</th>\n",
              "      <td>Sepuluh tahun menjabat, Gubernur Jawa Tengah G...</td>\n",
              "      <td>sepuluh menjabat gubernur jawa ganjar pranowo ...</td>\n",
              "    </tr>\n",
              "    <tr>\n",
              "      <th>297</th>\n",
              "      <td>Sepuluh tahun menjabat, Gubernur Jawa Tengah G...</td>\n",
              "      <td>sepuluh menjabat gubernur jawa ganjar pranowo ...</td>\n",
              "    </tr>\n",
              "    <tr>\n",
              "      <th>298</th>\n",
              "      <td>Sepuluh tahun menjabat, Gubernur Jawa Tengah G...</td>\n",
              "      <td>sepuluh menjabat gubernur jawa ganjar pranowo ...</td>\n",
              "    </tr>\n",
              "    <tr>\n",
              "      <th>299</th>\n",
              "      <td>Semoga vonis hakim lebih tinggi dari tuntutan ...</td>\n",
              "      <td>semoga vonis hakim tuntutan jaksa hukuman mati...</td>\n",
              "    </tr>\n",
              "  </tbody>\n",
              "</table>\n",
              "<p>300 rows × 2 columns</p>\n",
              "</div>\n",
              "      <button class=\"colab-df-convert\" onclick=\"convertToInteractive('df-ab6873b5-4be6-421e-880f-5928d82b55c5')\"\n",
              "              title=\"Convert this dataframe to an interactive table.\"\n",
              "              style=\"display:none;\">\n",
              "        \n",
              "  <svg xmlns=\"http://www.w3.org/2000/svg\" height=\"24px\"viewBox=\"0 0 24 24\"\n",
              "       width=\"24px\">\n",
              "    <path d=\"M0 0h24v24H0V0z\" fill=\"none\"/>\n",
              "    <path d=\"M18.56 5.44l.94 2.06.94-2.06 2.06-.94-2.06-.94-.94-2.06-.94 2.06-2.06.94zm-11 1L8.5 8.5l.94-2.06 2.06-.94-2.06-.94L8.5 2.5l-.94 2.06-2.06.94zm10 10l.94 2.06.94-2.06 2.06-.94-2.06-.94-.94-2.06-.94 2.06-2.06.94z\"/><path d=\"M17.41 7.96l-1.37-1.37c-.4-.4-.92-.59-1.43-.59-.52 0-1.04.2-1.43.59L10.3 9.45l-7.72 7.72c-.78.78-.78 2.05 0 2.83L4 21.41c.39.39.9.59 1.41.59.51 0 1.02-.2 1.41-.59l7.78-7.78 2.81-2.81c.8-.78.8-2.07 0-2.86zM5.41 20L4 18.59l7.72-7.72 1.47 1.35L5.41 20z\"/>\n",
              "  </svg>\n",
              "      </button>\n",
              "      \n",
              "  <style>\n",
              "    .colab-df-container {\n",
              "      display:flex;\n",
              "      flex-wrap:wrap;\n",
              "      gap: 12px;\n",
              "    }\n",
              "\n",
              "    .colab-df-convert {\n",
              "      background-color: #E8F0FE;\n",
              "      border: none;\n",
              "      border-radius: 50%;\n",
              "      cursor: pointer;\n",
              "      display: none;\n",
              "      fill: #1967D2;\n",
              "      height: 32px;\n",
              "      padding: 0 0 0 0;\n",
              "      width: 32px;\n",
              "    }\n",
              "\n",
              "    .colab-df-convert:hover {\n",
              "      background-color: #E2EBFA;\n",
              "      box-shadow: 0px 1px 2px rgba(60, 64, 67, 0.3), 0px 1px 3px 1px rgba(60, 64, 67, 0.15);\n",
              "      fill: #174EA6;\n",
              "    }\n",
              "\n",
              "    [theme=dark] .colab-df-convert {\n",
              "      background-color: #3B4455;\n",
              "      fill: #D2E3FC;\n",
              "    }\n",
              "\n",
              "    [theme=dark] .colab-df-convert:hover {\n",
              "      background-color: #434B5C;\n",
              "      box-shadow: 0px 1px 3px 1px rgba(0, 0, 0, 0.15);\n",
              "      filter: drop-shadow(0px 1px 2px rgba(0, 0, 0, 0.3));\n",
              "      fill: #FFFFFF;\n",
              "    }\n",
              "  </style>\n",
              "\n",
              "      <script>\n",
              "        const buttonEl =\n",
              "          document.querySelector('#df-ab6873b5-4be6-421e-880f-5928d82b55c5 button.colab-df-convert');\n",
              "        buttonEl.style.display =\n",
              "          google.colab.kernel.accessAllowed ? 'block' : 'none';\n",
              "\n",
              "        async function convertToInteractive(key) {\n",
              "          const element = document.querySelector('#df-ab6873b5-4be6-421e-880f-5928d82b55c5');\n",
              "          const dataTable =\n",
              "            await google.colab.kernel.invokeFunction('convertToInteractive',\n",
              "                                                     [key], {});\n",
              "          if (!dataTable) return;\n",
              "\n",
              "          const docLinkHtml = 'Like what you see? Visit the ' +\n",
              "            '<a target=\"_blank\" href=https://colab.research.google.com/notebooks/data_table.ipynb>data table notebook</a>'\n",
              "            + ' to learn more about interactive tables.';\n",
              "          element.innerHTML = '';\n",
              "          dataTable['output_type'] = 'display_data';\n",
              "          await google.colab.output.renderOutput(dataTable, element);\n",
              "          const docLink = document.createElement('div');\n",
              "          docLink.innerHTML = docLinkHtml;\n",
              "          element.appendChild(docLink);\n",
              "        }\n",
              "      </script>\n",
              "    </div>\n",
              "  </div>\n",
              "  "
            ]
          },
          "metadata": {},
          "execution_count": 329
        }
      ]
    },
    {
      "cell_type": "code",
      "source": [
        "# re-check slang word\n",
        "matched_rows = df[df['clean_tweet'].str.contains('gw')]\n",
        "matched_rows"
      ],
      "metadata": {
        "colab": {
          "base_uri": "https://localhost:8080/",
          "height": 49
        },
        "id": "XFsVXyqDAR6u",
        "outputId": "606b4655-2922-4e74-b243-b43c3c16fbef"
      },
      "execution_count": null,
      "outputs": [
        {
          "output_type": "execute_result",
          "data": {
            "text/plain": [
              "Empty DataFrame\n",
              "Columns: [tweet, clean_tweet]\n",
              "Index: []"
            ],
            "text/html": [
              "\n",
              "  <div id=\"df-148e8883-9a8a-4842-8310-a279ca574067\">\n",
              "    <div class=\"colab-df-container\">\n",
              "      <div>\n",
              "<style scoped>\n",
              "    .dataframe tbody tr th:only-of-type {\n",
              "        vertical-align: middle;\n",
              "    }\n",
              "\n",
              "    .dataframe tbody tr th {\n",
              "        vertical-align: top;\n",
              "    }\n",
              "\n",
              "    .dataframe thead th {\n",
              "        text-align: right;\n",
              "    }\n",
              "</style>\n",
              "<table border=\"1\" class=\"dataframe\">\n",
              "  <thead>\n",
              "    <tr style=\"text-align: right;\">\n",
              "      <th></th>\n",
              "      <th>tweet</th>\n",
              "      <th>clean_tweet</th>\n",
              "    </tr>\n",
              "  </thead>\n",
              "  <tbody>\n",
              "  </tbody>\n",
              "</table>\n",
              "</div>\n",
              "      <button class=\"colab-df-convert\" onclick=\"convertToInteractive('df-148e8883-9a8a-4842-8310-a279ca574067')\"\n",
              "              title=\"Convert this dataframe to an interactive table.\"\n",
              "              style=\"display:none;\">\n",
              "        \n",
              "  <svg xmlns=\"http://www.w3.org/2000/svg\" height=\"24px\"viewBox=\"0 0 24 24\"\n",
              "       width=\"24px\">\n",
              "    <path d=\"M0 0h24v24H0V0z\" fill=\"none\"/>\n",
              "    <path d=\"M18.56 5.44l.94 2.06.94-2.06 2.06-.94-2.06-.94-.94-2.06-.94 2.06-2.06.94zm-11 1L8.5 8.5l.94-2.06 2.06-.94-2.06-.94L8.5 2.5l-.94 2.06-2.06.94zm10 10l.94 2.06.94-2.06 2.06-.94-2.06-.94-.94-2.06-.94 2.06-2.06.94z\"/><path d=\"M17.41 7.96l-1.37-1.37c-.4-.4-.92-.59-1.43-.59-.52 0-1.04.2-1.43.59L10.3 9.45l-7.72 7.72c-.78.78-.78 2.05 0 2.83L4 21.41c.39.39.9.59 1.41.59.51 0 1.02-.2 1.41-.59l7.78-7.78 2.81-2.81c.8-.78.8-2.07 0-2.86zM5.41 20L4 18.59l7.72-7.72 1.47 1.35L5.41 20z\"/>\n",
              "  </svg>\n",
              "      </button>\n",
              "      \n",
              "  <style>\n",
              "    .colab-df-container {\n",
              "      display:flex;\n",
              "      flex-wrap:wrap;\n",
              "      gap: 12px;\n",
              "    }\n",
              "\n",
              "    .colab-df-convert {\n",
              "      background-color: #E8F0FE;\n",
              "      border: none;\n",
              "      border-radius: 50%;\n",
              "      cursor: pointer;\n",
              "      display: none;\n",
              "      fill: #1967D2;\n",
              "      height: 32px;\n",
              "      padding: 0 0 0 0;\n",
              "      width: 32px;\n",
              "    }\n",
              "\n",
              "    .colab-df-convert:hover {\n",
              "      background-color: #E2EBFA;\n",
              "      box-shadow: 0px 1px 2px rgba(60, 64, 67, 0.3), 0px 1px 3px 1px rgba(60, 64, 67, 0.15);\n",
              "      fill: #174EA6;\n",
              "    }\n",
              "\n",
              "    [theme=dark] .colab-df-convert {\n",
              "      background-color: #3B4455;\n",
              "      fill: #D2E3FC;\n",
              "    }\n",
              "\n",
              "    [theme=dark] .colab-df-convert:hover {\n",
              "      background-color: #434B5C;\n",
              "      box-shadow: 0px 1px 3px 1px rgba(0, 0, 0, 0.15);\n",
              "      filter: drop-shadow(0px 1px 2px rgba(0, 0, 0, 0.3));\n",
              "      fill: #FFFFFF;\n",
              "    }\n",
              "  </style>\n",
              "\n",
              "      <script>\n",
              "        const buttonEl =\n",
              "          document.querySelector('#df-148e8883-9a8a-4842-8310-a279ca574067 button.colab-df-convert');\n",
              "        buttonEl.style.display =\n",
              "          google.colab.kernel.accessAllowed ? 'block' : 'none';\n",
              "\n",
              "        async function convertToInteractive(key) {\n",
              "          const element = document.querySelector('#df-148e8883-9a8a-4842-8310-a279ca574067');\n",
              "          const dataTable =\n",
              "            await google.colab.kernel.invokeFunction('convertToInteractive',\n",
              "                                                     [key], {});\n",
              "          if (!dataTable) return;\n",
              "\n",
              "          const docLinkHtml = 'Like what you see? Visit the ' +\n",
              "            '<a target=\"_blank\" href=https://colab.research.google.com/notebooks/data_table.ipynb>data table notebook</a>'\n",
              "            + ' to learn more about interactive tables.';\n",
              "          element.innerHTML = '';\n",
              "          dataTable['output_type'] = 'display_data';\n",
              "          await google.colab.output.renderOutput(dataTable, element);\n",
              "          const docLink = document.createElement('div');\n",
              "          docLink.innerHTML = docLinkHtml;\n",
              "          element.appendChild(docLink);\n",
              "        }\n",
              "      </script>\n",
              "    </div>\n",
              "  </div>\n",
              "  "
            ]
          },
          "metadata": {},
          "execution_count": 474
        }
      ]
    },
    {
      "cell_type": "markdown",
      "source": [
        "stemming data pada column clean_tweet"
      ],
      "metadata": {
        "id": "EjaOwvzX616r"
      }
    },
    {
      "cell_type": "code",
      "source": [
        "def text_stemmer2(text):\n",
        "  factory = StemmerFactory()\n",
        "  stemmer = factory.create_stemmer()\n",
        "  output = (stemmer.stem(text.lower()))\n",
        "  return output"
      ],
      "metadata": {
        "id": "DdROC_vw6mIB"
      },
      "execution_count": null,
      "outputs": []
    },
    {
      "cell_type": "code",
      "source": [
        "df['clean_tweet'] = df['clean_tweet'].apply(text_stemmer2)\n",
        "df"
      ],
      "metadata": {
        "colab": {
          "base_uri": "https://localhost:8080/",
          "height": 423
        },
        "id": "Gos3j4DG6xlP",
        "outputId": "b5ab24ac-e988-4ba1-f697-7b3f3d22a7a5"
      },
      "execution_count": null,
      "outputs": [
        {
          "output_type": "execute_result",
          "data": {
            "text/plain": [
              "                                                 tweet  \\\n",
              "0    @NUgarislucu Masa Laluku\\nEnola Band bth Produ...   \n",
              "1    @NarasiNewsroom ricky rizal dituntut 8 tahun.\\...   \n",
              "2    Jaksa Sebut Ferdy Sambo yang Bersikukuh Membun...   \n",
              "3    Tuntutan JPU ini menuai beragam komentar dari ...   \n",
              "4    Tv berita favorit saya, Kompastv, MetroTv, TvO...   \n",
              "..                                                 ...   \n",
              "295  @sipalingdewasaa @asumsico Kalau takut ama fer...   \n",
              "296  Sepuluh tahun menjabat, Gubernur Jawa Tengah G...   \n",
              "297  Sepuluh tahun menjabat, Gubernur Jawa Tengah G...   \n",
              "298  Sepuluh tahun menjabat, Gubernur Jawa Tengah G...   \n",
              "299  Semoga vonis hakim lebih tinggi dari tuntutan ...   \n",
              "\n",
              "                                           clean_tweet  \n",
              "0    lalu enola band bth produser label musik hub a...  \n",
              "1    ricky rizal tuntut kuat maruf tuntut ferdy sam...  \n",
              "2        jaksa ferdy sambo bersikukuh bunuh brigadir j  \n",
              "3    tuntut jpu tuai agam komentar netizen banyak w...  \n",
              "4    tv berita favorit kompastv metrotv tvone yg je...  \n",
              "..                                                 ...  \n",
              "295  takut ama ferdy sambo ya langsung hukum mati a...  \n",
              "296  puluh jabat gubernur jawa ganjar pranowo bantu...  \n",
              "297  puluh jabat gubernur jawa ganjar pranowo bantu...  \n",
              "298  puluh jabat gubernur jawa ganjar pranowo bantu...  \n",
              "299  moga vonis hakim tuntut jaksa hukum mati ajar ...  \n",
              "\n",
              "[300 rows x 2 columns]"
            ],
            "text/html": [
              "\n",
              "  <div id=\"df-e5518453-4f60-439b-9442-f373f0fe8583\">\n",
              "    <div class=\"colab-df-container\">\n",
              "      <div>\n",
              "<style scoped>\n",
              "    .dataframe tbody tr th:only-of-type {\n",
              "        vertical-align: middle;\n",
              "    }\n",
              "\n",
              "    .dataframe tbody tr th {\n",
              "        vertical-align: top;\n",
              "    }\n",
              "\n",
              "    .dataframe thead th {\n",
              "        text-align: right;\n",
              "    }\n",
              "</style>\n",
              "<table border=\"1\" class=\"dataframe\">\n",
              "  <thead>\n",
              "    <tr style=\"text-align: right;\">\n",
              "      <th></th>\n",
              "      <th>tweet</th>\n",
              "      <th>clean_tweet</th>\n",
              "    </tr>\n",
              "  </thead>\n",
              "  <tbody>\n",
              "    <tr>\n",
              "      <th>0</th>\n",
              "      <td>@NUgarislucu Masa Laluku\\nEnola Band bth Produ...</td>\n",
              "      <td>lalu enola band bth produser label musik hub a...</td>\n",
              "    </tr>\n",
              "    <tr>\n",
              "      <th>1</th>\n",
              "      <td>@NarasiNewsroom ricky rizal dituntut 8 tahun.\\...</td>\n",
              "      <td>ricky rizal tuntut kuat maruf tuntut ferdy sam...</td>\n",
              "    </tr>\n",
              "    <tr>\n",
              "      <th>2</th>\n",
              "      <td>Jaksa Sebut Ferdy Sambo yang Bersikukuh Membun...</td>\n",
              "      <td>jaksa ferdy sambo bersikukuh bunuh brigadir j</td>\n",
              "    </tr>\n",
              "    <tr>\n",
              "      <th>3</th>\n",
              "      <td>Tuntutan JPU ini menuai beragam komentar dari ...</td>\n",
              "      <td>tuntut jpu tuai agam komentar netizen banyak w...</td>\n",
              "    </tr>\n",
              "    <tr>\n",
              "      <th>4</th>\n",
              "      <td>Tv berita favorit saya, Kompastv, MetroTv, TvO...</td>\n",
              "      <td>tv berita favorit kompastv metrotv tvone yg je...</td>\n",
              "    </tr>\n",
              "    <tr>\n",
              "      <th>...</th>\n",
              "      <td>...</td>\n",
              "      <td>...</td>\n",
              "    </tr>\n",
              "    <tr>\n",
              "      <th>295</th>\n",
              "      <td>@sipalingdewasaa @asumsico Kalau takut ama fer...</td>\n",
              "      <td>takut ama ferdy sambo ya langsung hukum mati a...</td>\n",
              "    </tr>\n",
              "    <tr>\n",
              "      <th>296</th>\n",
              "      <td>Sepuluh tahun menjabat, Gubernur Jawa Tengah G...</td>\n",
              "      <td>puluh jabat gubernur jawa ganjar pranowo bantu...</td>\n",
              "    </tr>\n",
              "    <tr>\n",
              "      <th>297</th>\n",
              "      <td>Sepuluh tahun menjabat, Gubernur Jawa Tengah G...</td>\n",
              "      <td>puluh jabat gubernur jawa ganjar pranowo bantu...</td>\n",
              "    </tr>\n",
              "    <tr>\n",
              "      <th>298</th>\n",
              "      <td>Sepuluh tahun menjabat, Gubernur Jawa Tengah G...</td>\n",
              "      <td>puluh jabat gubernur jawa ganjar pranowo bantu...</td>\n",
              "    </tr>\n",
              "    <tr>\n",
              "      <th>299</th>\n",
              "      <td>Semoga vonis hakim lebih tinggi dari tuntutan ...</td>\n",
              "      <td>moga vonis hakim tuntut jaksa hukum mati ajar ...</td>\n",
              "    </tr>\n",
              "  </tbody>\n",
              "</table>\n",
              "<p>300 rows × 2 columns</p>\n",
              "</div>\n",
              "      <button class=\"colab-df-convert\" onclick=\"convertToInteractive('df-e5518453-4f60-439b-9442-f373f0fe8583')\"\n",
              "              title=\"Convert this dataframe to an interactive table.\"\n",
              "              style=\"display:none;\">\n",
              "        \n",
              "  <svg xmlns=\"http://www.w3.org/2000/svg\" height=\"24px\"viewBox=\"0 0 24 24\"\n",
              "       width=\"24px\">\n",
              "    <path d=\"M0 0h24v24H0V0z\" fill=\"none\"/>\n",
              "    <path d=\"M18.56 5.44l.94 2.06.94-2.06 2.06-.94-2.06-.94-.94-2.06-.94 2.06-2.06.94zm-11 1L8.5 8.5l.94-2.06 2.06-.94-2.06-.94L8.5 2.5l-.94 2.06-2.06.94zm10 10l.94 2.06.94-2.06 2.06-.94-2.06-.94-.94-2.06-.94 2.06-2.06.94z\"/><path d=\"M17.41 7.96l-1.37-1.37c-.4-.4-.92-.59-1.43-.59-.52 0-1.04.2-1.43.59L10.3 9.45l-7.72 7.72c-.78.78-.78 2.05 0 2.83L4 21.41c.39.39.9.59 1.41.59.51 0 1.02-.2 1.41-.59l7.78-7.78 2.81-2.81c.8-.78.8-2.07 0-2.86zM5.41 20L4 18.59l7.72-7.72 1.47 1.35L5.41 20z\"/>\n",
              "  </svg>\n",
              "      </button>\n",
              "      \n",
              "  <style>\n",
              "    .colab-df-container {\n",
              "      display:flex;\n",
              "      flex-wrap:wrap;\n",
              "      gap: 12px;\n",
              "    }\n",
              "\n",
              "    .colab-df-convert {\n",
              "      background-color: #E8F0FE;\n",
              "      border: none;\n",
              "      border-radius: 50%;\n",
              "      cursor: pointer;\n",
              "      display: none;\n",
              "      fill: #1967D2;\n",
              "      height: 32px;\n",
              "      padding: 0 0 0 0;\n",
              "      width: 32px;\n",
              "    }\n",
              "\n",
              "    .colab-df-convert:hover {\n",
              "      background-color: #E2EBFA;\n",
              "      box-shadow: 0px 1px 2px rgba(60, 64, 67, 0.3), 0px 1px 3px 1px rgba(60, 64, 67, 0.15);\n",
              "      fill: #174EA6;\n",
              "    }\n",
              "\n",
              "    [theme=dark] .colab-df-convert {\n",
              "      background-color: #3B4455;\n",
              "      fill: #D2E3FC;\n",
              "    }\n",
              "\n",
              "    [theme=dark] .colab-df-convert:hover {\n",
              "      background-color: #434B5C;\n",
              "      box-shadow: 0px 1px 3px 1px rgba(0, 0, 0, 0.15);\n",
              "      filter: drop-shadow(0px 1px 2px rgba(0, 0, 0, 0.3));\n",
              "      fill: #FFFFFF;\n",
              "    }\n",
              "  </style>\n",
              "\n",
              "      <script>\n",
              "        const buttonEl =\n",
              "          document.querySelector('#df-e5518453-4f60-439b-9442-f373f0fe8583 button.colab-df-convert');\n",
              "        buttonEl.style.display =\n",
              "          google.colab.kernel.accessAllowed ? 'block' : 'none';\n",
              "\n",
              "        async function convertToInteractive(key) {\n",
              "          const element = document.querySelector('#df-e5518453-4f60-439b-9442-f373f0fe8583');\n",
              "          const dataTable =\n",
              "            await google.colab.kernel.invokeFunction('convertToInteractive',\n",
              "                                                     [key], {});\n",
              "          if (!dataTable) return;\n",
              "\n",
              "          const docLinkHtml = 'Like what you see? Visit the ' +\n",
              "            '<a target=\"_blank\" href=https://colab.research.google.com/notebooks/data_table.ipynb>data table notebook</a>'\n",
              "            + ' to learn more about interactive tables.';\n",
              "          element.innerHTML = '';\n",
              "          dataTable['output_type'] = 'display_data';\n",
              "          await google.colab.output.renderOutput(dataTable, element);\n",
              "          const docLink = document.createElement('div');\n",
              "          docLink.innerHTML = docLinkHtml;\n",
              "          element.appendChild(docLink);\n",
              "        }\n",
              "      </script>\n",
              "    </div>\n",
              "  </div>\n",
              "  "
            ]
          },
          "metadata": {},
          "execution_count": 469
        }
      ]
    },
    {
      "cell_type": "markdown",
      "source": [
        "# Text analysis"
      ],
      "metadata": {
        "id": "9hkyv-qgg67R"
      }
    },
    {
      "cell_type": "markdown",
      "source": [
        "Melakukan text analysis berupa word_frequency, mean_word_length, dsb."
      ],
      "metadata": {
        "id": "4YgIjDQ_g_k5"
      }
    },
    {
      "cell_type": "code",
      "metadata": {
        "id": "wY4vY6Z-vWOe"
      },
      "source": [
        "#lakukan semua Text Analysis, seperti \n",
        "#tampilkan plot dari setiap analysis\n",
        "#dengan melihat word_frequency coba perbaiki pembersihan slang word pada tweet_clean\n",
        "#tampilkan dataframe kalian"
      ],
      "execution_count": null,
      "outputs": []
    },
    {
      "cell_type": "markdown",
      "source": [
        "Jumlah karakter pada column clean_tweet"
      ],
      "metadata": {
        "id": "fr0dsiZZfqxs"
      }
    },
    {
      "cell_type": "code",
      "source": [
        "length_char = df['clean_tweet'].str.len()\n",
        "plt.hist(length_char, bins=15)\n",
        "plt.title('Distribution of Character Length')\n",
        "plt.xlabel('Length Char')\n",
        "plt.ylabel('Freq')"
      ],
      "metadata": {
        "colab": {
          "base_uri": "https://localhost:8080/",
          "height": 313
        },
        "id": "PSrbNpLwcpkF",
        "outputId": "47b4b91b-930b-42c4-9785-cb87294e657c"
      },
      "execution_count": null,
      "outputs": [
        {
          "output_type": "execute_result",
          "data": {
            "text/plain": [
              "Text(0, 0.5, 'Freq')"
            ]
          },
          "metadata": {},
          "execution_count": 470
        },
        {
          "output_type": "display_data",
          "data": {
            "text/plain": [
              "<Figure size 432x288 with 1 Axes>"
            ],
            "image/png": "[encoded data removed]"
          },
          "metadata": {
            "needs_background": "light"
          }
        }
      ]
    },
    {
      "cell_type": "markdown",
      "source": [
        "Jumlah kata pada column clean_tweet"
      ],
      "metadata": {
        "id": "9-3NxXCtjeix"
      }
    },
    {
      "cell_type": "code",
      "source": [
        "#Distribusi panjang kata per tweet\n",
        "length_word = df['clean_tweet'].str.split().map(lambda x: len(x))\n",
        "plt.hist(length_word, bins=15)\n",
        "plt.title('Distribution of Word Length')\n",
        "plt.xlabel('Length Word')\n",
        "plt.ylabel('Freq')"
      ],
      "metadata": {
        "colab": {
          "base_uri": "https://localhost:8080/",
          "height": 313
        },
        "id": "ZhD0v8rNf8qC",
        "outputId": "29939c9d-7652-4747-cda0-f645fd7cb97d"
      },
      "execution_count": null,
      "outputs": [
        {
          "output_type": "execute_result",
          "data": {
            "text/plain": [
              "Text(0, 0.5, 'Freq')"
            ]
          },
          "metadata": {},
          "execution_count": 471
        },
        {
          "output_type": "display_data",
          "data": {
            "text/plain": [
              "<Figure size 432x288 with 1 Axes>"
            ],
            "image/png": "[encoded data removed]"
          },
          "metadata": {
            "needs_background": "light"
          }
        }
      ]
    },
    {
      "cell_type": "markdown",
      "source": [
        "Rata-rata panjang kata pada column clean_tweet"
      ],
      "metadata": {
        "id": "JPicAwkbkFkf"
      }
    },
    {
      "cell_type": "code",
      "source": [
        "word_length_mean =df['clean_tweet'].str.split().apply(lambda x : [len(i) for i in x]).map(lambda x: np.mean(x))\n",
        "plt.hist(word_length_mean, bins=15)\n",
        "plt.title('Distribution of Mean Word Length')\n",
        "plt.xlabel('Word length mean')\n",
        "plt.ylabel('Freq')"
      ],
      "metadata": {
        "colab": {
          "base_uri": "https://localhost:8080/",
          "height": 313
        },
        "id": "0hi7RpePjIoL",
        "outputId": "68b65baa-a098-435a-b240-06fc42fd3a86"
      },
      "execution_count": null,
      "outputs": [
        {
          "output_type": "execute_result",
          "data": {
            "text/plain": [
              "Text(0, 0.5, 'Freq')"
            ]
          },
          "metadata": {},
          "execution_count": 472
        },
        {
          "output_type": "display_data",
          "data": {
            "text/plain": [
              "<Figure size 432x288 with 1 Axes>"
            ],
            "image/png": "[encoded data removed]"
          },
          "metadata": {
            "needs_background": "light"
          }
        }
      ]
    },
    {
      "cell_type": "code",
      "source": [
        "fqdist = FreqDist(str(tweets).split())\n",
        "most_common_word = fqdist.most_common(10)\n",
        "most_common_word"
      ],
      "metadata": {
        "colab": {
          "base_uri": "https://localhost:8080/"
        },
        "id": "M8sA0jN_mSJM",
        "outputId": "4996c319-c5dd-4f4b-d3c3-ae7eba495e49"
      },
      "execution_count": null,
      "outputs": [
        {
          "output_type": "execute_result",
          "data": {
            "text/plain": [
              "[('sambo', 287),\n",
              " ('ferdy', 189),\n",
              " ('aun', 97),\n",
              " ('fir', 94),\n",
              " ('seumur', 94),\n",
              " ('cak', 82),\n",
              " ('nabi', 82),\n",
              " ('khidir', 82),\n",
              " ('nun', 71),\n",
              " ('hidup', 67)]"
            ]
          },
          "metadata": {},
          "execution_count": 473
        }
      ]
    },
    {
      "cell_type": "markdown",
      "source": [
        "# Sentiment Analysis "
      ],
      "metadata": {
        "id": "c6a3njc6hpnh"
      }
    },
    {
      "cell_type": "code",
      "metadata": {
        "id": "g7WVeJ65wAPP"
      },
      "source": [
        "with open(\"./kata_positif.txt\",\"r\") as positif_file :\n",
        "  positive_words = list(set(positif_file.readlines()))\n",
        "with open(\"./kata_negatif.txt\",\"r\") as negative_file :\n",
        "  negative_words = list(set(negative_file.readlines()))\n"
      ],
      "execution_count": null,
      "outputs": []
    },
    {
      "cell_type": "code",
      "source": [
        "hasil = []\n",
        "#list_negasi = ['tidak','lawan','anti', 'tdk', 'jangan', 'gak', 'enggak', 'bukan', 'tak']\n",
        "\n",
        "for tweet in tweets:\n",
        "\n",
        "    tweet_clean = tweet.strip().split()\n",
        "    \n",
        "    good_count = 0 #nilai positif\n",
        "    bad_count = 0 #nilai negatif\n",
        "\n",
        "    for good_word in positive_words:\n",
        "        count = tweet_clean.count(good_word.strip().lower())\n",
        "        if count > 0:\n",
        "          print(good_word.strip())\n",
        "          good_count += count\n",
        "\n",
        "    for bad_word in negative_words:\n",
        "        count = tweet_clean.count(bad_word.strip().lower())\n",
        "        if count > 0:\n",
        "          print(bad_word.strip())\n",
        "          bad_count += count\n",
        "    \n",
        "    print (\"positif: \"+str(good_count))\n",
        "    print (\"negatif: \"+str(bad_count))\n",
        "    hasil.append(good_count - bad_count)\n",
        "    print (\"-----------------------------------------------------\")"
      ],
      "metadata": {
        "id": "MEHYWkttWT5l"
      },
      "execution_count": null,
      "outputs": []
    },
    {
      "cell_type": "code",
      "source": [
        "print (f'''\n",
        "Mean: {np.mean(hasil)}\n",
        "Median: {np.median(hasil)}\n",
        "quartil awal: {np.quantile(hasil,0.25)}\n",
        "quartil tengah: {np.quantile(hasil,0.5)}\n",
        "quartil akhir: {np.quantile(hasil,0.75)}\n",
        "Standar deviasi: {np.std(hasil)}   \n",
        "Max : {max(hasil)}\n",
        "Min : {min(hasil)}  \n",
        "''')"
      ],
      "metadata": {
        "colab": {
          "base_uri": "https://localhost:8080/"
        },
        "id": "O0RDip41dWcm",
        "outputId": "8290b287-ce28-4a0b-94fa-223d85cbaca0"
      },
      "execution_count": null,
      "outputs": [
        {
          "output_type": "stream",
          "name": "stdout",
          "text": [
            "\n",
            "Mean: -0.09\n",
            "Median: 0.0\n",
            "quartil awal: -1.0\n",
            "quartil tengah: 0.0\n",
            "quartil akhir: 1.0\n",
            "Standar deviasi: 1.7837881040078722   \n",
            "Max : 6\n",
            "Min : -6  \n",
            "\n"
          ]
        }
      ]
    },
    {
      "cell_type": "code",
      "source": [
        "sentiments = [\"positif\" if sentimen > 0 else (\"netral\" if sentimen == 0 else \"negatif\") for sentimen in hasil]\n",
        "df[\"sentiment\"] = sentiments\n",
        "df['sentiment'].value_counts()\n",
        "df"
      ],
      "metadata": {
        "colab": {
          "base_uri": "https://localhost:8080/",
          "height": 423
        },
        "id": "JSMPht3TDbHT",
        "outputId": "1ca251b0-53c0-4e7f-f0f0-acdede93705c"
      },
      "execution_count": null,
      "outputs": [
        {
          "output_type": "execute_result",
          "data": {
            "text/plain": [
              "                                                 tweet  \\\n",
              "0    @NUgarislucu Masa Laluku\\nEnola Band bth Produ...   \n",
              "1    @NarasiNewsroom ricky rizal dituntut 8 tahun.\\...   \n",
              "2    Jaksa Sebut Ferdy Sambo yang Bersikukuh Membun...   \n",
              "3    Tuntutan JPU ini menuai beragam komentar dari ...   \n",
              "4    Tv berita favorit saya, Kompastv, MetroTv, TvO...   \n",
              "..                                                 ...   \n",
              "295  @sipalingdewasaa @asumsico Kalau takut ama fer...   \n",
              "296  Sepuluh tahun menjabat, Gubernur Jawa Tengah G...   \n",
              "297  Sepuluh tahun menjabat, Gubernur Jawa Tengah G...   \n",
              "298  Sepuluh tahun menjabat, Gubernur Jawa Tengah G...   \n",
              "299  Semoga vonis hakim lebih tinggi dari tuntutan ...   \n",
              "\n",
              "                                           clean_tweet sentiment  \n",
              "0    lalu enola band bth produser label musik hub a...   positif  \n",
              "1    ricky rizal tuntut kuat maruf tuntut ferdy sam...   negatif  \n",
              "2        jaksa ferdy sambo bersikukuh bunuh brigadir j   negatif  \n",
              "3    tuntut jpu tuai agam komentar netizen banyak w...   negatif  \n",
              "4    tv berita favorit kompastv metrotv tvone yg je...    netral  \n",
              "..                                                 ...       ...  \n",
              "295  takut ama ferdy sambo ya langsung hukum mati a...   negatif  \n",
              "296  puluh jabat gubernur jawa ganjar pranowo bantu...   positif  \n",
              "297  puluh jabat gubernur jawa ganjar pranowo bantu...   positif  \n",
              "298  puluh jabat gubernur jawa ganjar pranowo bantu...   positif  \n",
              "299  moga vonis hakim tuntut jaksa hukum mati ajar ...   negatif  \n",
              "\n",
              "[300 rows x 3 columns]"
            ],
            "text/html": [
              "\n",
              "  <div id=\"df-23f9f638-c926-4699-9c26-5c92a4d0c4ea\">\n",
              "    <div class=\"colab-df-container\">\n",
              "      <div>\n",
              "<style scoped>\n",
              "    .dataframe tbody tr th:only-of-type {\n",
              "        vertical-align: middle;\n",
              "    }\n",
              "\n",
              "    .dataframe tbody tr th {\n",
              "        vertical-align: top;\n",
              "    }\n",
              "\n",
              "    .dataframe thead th {\n",
              "        text-align: right;\n",
              "    }\n",
              "</style>\n",
              "<table border=\"1\" class=\"dataframe\">\n",
              "  <thead>\n",
              "    <tr style=\"text-align: right;\">\n",
              "      <th></th>\n",
              "      <th>tweet</th>\n",
              "      <th>clean_tweet</th>\n",
              "      <th>sentiment</th>\n",
              "    </tr>\n",
              "  </thead>\n",
              "  <tbody>\n",
              "    <tr>\n",
              "      <th>0</th>\n",
              "      <td>@NUgarislucu Masa Laluku\\nEnola Band bth Produ...</td>\n",
              "      <td>lalu enola band bth produser label musik hub a...</td>\n",
              "      <td>positif</td>\n",
              "    </tr>\n",
              "    <tr>\n",
              "      <th>1</th>\n",
              "      <td>@NarasiNewsroom ricky rizal dituntut 8 tahun.\\...</td>\n",
              "      <td>ricky rizal tuntut kuat maruf tuntut ferdy sam...</td>\n",
              "      <td>negatif</td>\n",
              "    </tr>\n",
              "    <tr>\n",
              "      <th>2</th>\n",
              "      <td>Jaksa Sebut Ferdy Sambo yang Bersikukuh Membun...</td>\n",
              "      <td>jaksa ferdy sambo bersikukuh bunuh brigadir j</td>\n",
              "      <td>negatif</td>\n",
              "    </tr>\n",
              "    <tr>\n",
              "      <th>3</th>\n",
              "      <td>Tuntutan JPU ini menuai beragam komentar dari ...</td>\n",
              "      <td>tuntut jpu tuai agam komentar netizen banyak w...</td>\n",
              "      <td>negatif</td>\n",
              "    </tr>\n",
              "    <tr>\n",
              "      <th>4</th>\n",
              "      <td>Tv berita favorit saya, Kompastv, MetroTv, TvO...</td>\n",
              "      <td>tv berita favorit kompastv metrotv tvone yg je...</td>\n",
              "      <td>netral</td>\n",
              "    </tr>\n",
              "    <tr>\n",
              "      <th>...</th>\n",
              "      <td>...</td>\n",
              "      <td>...</td>\n",
              "      <td>...</td>\n",
              "    </tr>\n",
              "    <tr>\n",
              "      <th>295</th>\n",
              "      <td>@sipalingdewasaa @asumsico Kalau takut ama fer...</td>\n",
              "      <td>takut ama ferdy sambo ya langsung hukum mati a...</td>\n",
              "      <td>negatif</td>\n",
              "    </tr>\n",
              "    <tr>\n",
              "      <th>296</th>\n",
              "      <td>Sepuluh tahun menjabat, Gubernur Jawa Tengah G...</td>\n",
              "      <td>puluh jabat gubernur jawa ganjar pranowo bantu...</td>\n",
              "      <td>positif</td>\n",
              "    </tr>\n",
              "    <tr>\n",
              "      <th>297</th>\n",
              "      <td>Sepuluh tahun menjabat, Gubernur Jawa Tengah G...</td>\n",
              "      <td>puluh jabat gubernur jawa ganjar pranowo bantu...</td>\n",
              "      <td>positif</td>\n",
              "    </tr>\n",
              "    <tr>\n",
              "      <th>298</th>\n",
              "      <td>Sepuluh tahun menjabat, Gubernur Jawa Tengah G...</td>\n",
              "      <td>puluh jabat gubernur jawa ganjar pranowo bantu...</td>\n",
              "      <td>positif</td>\n",
              "    </tr>\n",
              "    <tr>\n",
              "      <th>299</th>\n",
              "      <td>Semoga vonis hakim lebih tinggi dari tuntutan ...</td>\n",
              "      <td>moga vonis hakim tuntut jaksa hukum mati ajar ...</td>\n",
              "      <td>negatif</td>\n",
              "    </tr>\n",
              "  </tbody>\n",
              "</table>\n",
              "<p>300 rows × 3 columns</p>\n",
              "</div>\n",
              "      <button class=\"colab-df-convert\" onclick=\"convertToInteractive('df-23f9f638-c926-4699-9c26-5c92a4d0c4ea')\"\n",
              "              title=\"Convert this dataframe to an interactive table.\"\n",
              "              style=\"display:none;\">\n",
              "        \n",
              "  <svg xmlns=\"http://www.w3.org/2000/svg\" height=\"24px\"viewBox=\"0 0 24 24\"\n",
              "       width=\"24px\">\n",
              "    <path d=\"M0 0h24v24H0V0z\" fill=\"none\"/>\n",
              "    <path d=\"M18.56 5.44l.94 2.06.94-2.06 2.06-.94-2.06-.94-.94-2.06-.94 2.06-2.06.94zm-11 1L8.5 8.5l.94-2.06 2.06-.94-2.06-.94L8.5 2.5l-.94 2.06-2.06.94zm10 10l.94 2.06.94-2.06 2.06-.94-2.06-.94-.94-2.06-.94 2.06-2.06.94z\"/><path d=\"M17.41 7.96l-1.37-1.37c-.4-.4-.92-.59-1.43-.59-.52 0-1.04.2-1.43.59L10.3 9.45l-7.72 7.72c-.78.78-.78 2.05 0 2.83L4 21.41c.39.39.9.59 1.41.59.51 0 1.02-.2 1.41-.59l7.78-7.78 2.81-2.81c.8-.78.8-2.07 0-2.86zM5.41 20L4 18.59l7.72-7.72 1.47 1.35L5.41 20z\"/>\n",
              "  </svg>\n",
              "      </button>\n",
              "      \n",
              "  <style>\n",
              "    .colab-df-container {\n",
              "      display:flex;\n",
              "      flex-wrap:wrap;\n",
              "      gap: 12px;\n",
              "    }\n",
              "\n",
              "    .colab-df-convert {\n",
              "      background-color: #E8F0FE;\n",
              "      border: none;\n",
              "      border-radius: 50%;\n",
              "      cursor: pointer;\n",
              "      display: none;\n",
              "      fill: #1967D2;\n",
              "      height: 32px;\n",
              "      padding: 0 0 0 0;\n",
              "      width: 32px;\n",
              "    }\n",
              "\n",
              "    .colab-df-convert:hover {\n",
              "      background-color: #E2EBFA;\n",
              "      box-shadow: 0px 1px 2px rgba(60, 64, 67, 0.3), 0px 1px 3px 1px rgba(60, 64, 67, 0.15);\n",
              "      fill: #174EA6;\n",
              "    }\n",
              "\n",
              "    [theme=dark] .colab-df-convert {\n",
              "      background-color: #3B4455;\n",
              "      fill: #D2E3FC;\n",
              "    }\n",
              "\n",
              "    [theme=dark] .colab-df-convert:hover {\n",
              "      background-color: #434B5C;\n",
              "      box-shadow: 0px 1px 3px 1px rgba(0, 0, 0, 0.15);\n",
              "      filter: drop-shadow(0px 1px 2px rgba(0, 0, 0, 0.3));\n",
              "      fill: #FFFFFF;\n",
              "    }\n",
              "  </style>\n",
              "\n",
              "      <script>\n",
              "        const buttonEl =\n",
              "          document.querySelector('#df-23f9f638-c926-4699-9c26-5c92a4d0c4ea button.colab-df-convert');\n",
              "        buttonEl.style.display =\n",
              "          google.colab.kernel.accessAllowed ? 'block' : 'none';\n",
              "\n",
              "        async function convertToInteractive(key) {\n",
              "          const element = document.querySelector('#df-23f9f638-c926-4699-9c26-5c92a4d0c4ea');\n",
              "          const dataTable =\n",
              "            await google.colab.kernel.invokeFunction('convertToInteractive',\n",
              "                                                     [key], {});\n",
              "          if (!dataTable) return;\n",
              "\n",
              "          const docLinkHtml = 'Like what you see? Visit the ' +\n",
              "            '<a target=\"_blank\" href=https://colab.research.google.com/notebooks/data_table.ipynb>data table notebook</a>'\n",
              "            + ' to learn more about interactive tables.';\n",
              "          element.innerHTML = '';\n",
              "          dataTable['output_type'] = 'display_data';\n",
              "          await google.colab.output.renderOutput(dataTable, element);\n",
              "          const docLink = document.createElement('div');\n",
              "          docLink.innerHTML = docLinkHtml;\n",
              "          element.appendChild(docLink);\n",
              "        }\n",
              "      </script>\n",
              "    </div>\n",
              "  </div>\n",
              "  "
            ]
          },
          "metadata": {},
          "execution_count": 486
        }
      ]
    },
    {
      "cell_type": "code",
      "source": [
        "labels, counts = np.unique(hasil, return_counts=True)\n",
        "\n",
        "fig, ax = plt.subplots()\n",
        "ax.set_xticks(ax.get_xticks())\n",
        "\n",
        "sns.barplot(x = list(labels), \n",
        "            y = list(counts))\n",
        "\n",
        "sns.lineplot(x = ax.get_xticks(), \n",
        "            y = list(counts))\n",
        "\n",
        "plt.title(f'Distribution Sentiment')\n",
        "plt.xlabel('Labels')\n",
        "plt.ylabel('Freq')\n",
        "\n",
        "plt.show()"
      ],
      "metadata": {
        "colab": {
          "base_uri": "https://localhost:8080/",
          "height": 295
        },
        "id": "FyVv2BH7LVoO",
        "outputId": "0fac5b95-d421-4841-a98a-2fedd78e4469"
      },
      "execution_count": null,
      "outputs": [
        {
          "output_type": "display_data",
          "data": {
            "text/plain": [
              "<Figure size 432x288 with 1 Axes>"
            ],
            "image/png": "[encoded data removed]"
          },
          "metadata": {
            "needs_background": "light"
          }
        }
      ]
    },
    {
      "cell_type": "code",
      "source": [
        "sns.barplot(df['sentiment'].value_counts().index,df['sentiment'].value_counts())\n",
        "plt.title(f'Distribution Sentiment')\n",
        "plt.xlabel('Labels')\n",
        "plt.ylabel('Freq')"
      ],
      "metadata": {
        "colab": {
          "base_uri": "https://localhost:8080/",
          "height": 369
        },
        "id": "AHcxySIzLvln",
        "outputId": "9c4d3cfe-5204-443e-85f2-a6e7e5d32558"
      },
      "execution_count": null,
      "outputs": [
        {
          "output_type": "stream",
          "name": "stderr",
          "text": [
            "/usr/local/lib/python3.8/dist-packages/seaborn/_decorators.py:36: FutureWarning: Pass the following variables as keyword args: x, y. From version 0.12, the only valid positional argument will be `data`, and passing other arguments without an explicit keyword will result in an error or misinterpretation.\n",
            "  warnings.warn(\n"
          ]
        },
        {
          "output_type": "execute_result",
          "data": {
            "text/plain": [
              "Text(0, 0.5, 'Freq')"
            ]
          },
          "metadata": {},
          "execution_count": 495
        },
        {
          "output_type": "display_data",
          "data": {
            "text/plain": [
              "<Figure size 432x288 with 1 Axes>"
            ],
            "image/png": "[encoded data removed]"
          },
          "metadata": {
            "needs_background": "light"
          }
        }
      ]
    },
    {
      "cell_type": "code",
      "source": [
        "df['sentiment'].value_counts()"
      ],
      "metadata": {
        "colab": {
          "base_uri": "https://localhost:8080/"
        },
        "id": "Fr-1pAYSL8bw",
        "outputId": "63704c17-3346-4835-dcb9-459cc096ab4f"
      },
      "execution_count": null,
      "outputs": [
        {
          "output_type": "execute_result",
          "data": {
            "text/plain": [
              "negatif    106\n",
              "netral     100\n",
              "positif     94\n",
              "Name: sentiment, dtype: int64"
            ]
          },
          "metadata": {},
          "execution_count": 496
        }
      ]
    },
    {
      "cell_type": "code",
      "metadata": {
        "id": "Kikw8PlPwKe1"
      },
      "source": [
        "#lakukan analisis dan tarik kesimpulan dari Text analysis dan Sentiment Analysis\n",
        "#masukkan analisis kalian pada sel berikut.\n",
        "'''\n",
        "Dari hasil text analisis dari tweet scrapping dapat dilihat 300 tweet membahas tentang ferdy sambo serta hukuman seumur hidup \n",
        "\n",
        "serta dari hasil setimen analisis pada tweet tentang sambo dapat dilihat sentimen negatif lebih banyak daripada sentimen netral dan positif\n",
        "'''"
      ],
      "execution_count": null,
      "outputs": []
    }
  ]
}